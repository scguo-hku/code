{
 "cells": [
  {
   "cell_type": "code",
   "execution_count": 1,
   "metadata": {},
   "outputs": [],
   "source": [
    "from perceptron import Perceptron\n",
    "import pandas as pd\n",
    "from sklearn.model_selection import train_test_split\n",
    "from sklearn.metrics import accuracy_score"
   ]
  },
  {
   "cell_type": "code",
   "execution_count": 2,
   "metadata": {},
   "outputs": [
    {
     "name": "stdout",
     "output_type": "stream",
     "text": [
      "   Sepal Length  Sepal Width  Petal Length  Petal Width      Species\n",
      "0           5.1          3.5           1.4          0.2  Iris-setosa\n",
      "1           4.9          3.0           1.4          0.2  Iris-setosa\n",
      "2           4.7          3.2           1.3          0.2  Iris-setosa\n",
      "3           4.6          3.1           1.5          0.2  Iris-setosa\n",
      "4           5.0          3.6           1.4          0.2  Iris-setosa\n"
     ]
    }
   ],
   "source": [
    "url = 'https://archive.ics.uci.edu/ml/machine-learning-databases/iris/iris.data'\n",
    "\n",
    "column_names = ['Sepal Length', 'Sepal Width', 'Petal Length', 'Petal Width', 'Species']\n",
    "\n",
    "data = pd.read_csv(url, header=None, names=column_names)\n",
    "\n",
    "data = data[data['Species'] != 'Iris-virginica']\n",
    "\n",
    "print(data.head())"
   ]
  },
  {
   "cell_type": "code",
   "execution_count": 3,
   "metadata": {},
   "outputs": [
    {
     "name": "stdout",
     "output_type": "stream",
     "text": [
      "Epoch 1/50, Errors: 40\n",
      "Epoch 2/50, Errors: 4\n",
      "Epoch 3/50, Errors: 0\n",
      "Epoch 4/50, Errors: 0\n",
      "Epoch 5/50, Errors: 0\n",
      "Epoch 6/50, Errors: 0\n",
      "Epoch 7/50, Errors: 0\n",
      "Epoch 8/50, Errors: 0\n",
      "Epoch 9/50, Errors: 0\n",
      "Epoch 10/50, Errors: 0\n",
      "Epoch 11/50, Errors: 0\n",
      "Epoch 12/50, Errors: 0\n",
      "Epoch 13/50, Errors: 0\n",
      "Epoch 14/50, Errors: 0\n",
      "Epoch 15/50, Errors: 0\n",
      "Epoch 16/50, Errors: 0\n",
      "Epoch 17/50, Errors: 0\n",
      "Epoch 18/50, Errors: 0\n",
      "Epoch 19/50, Errors: 0\n",
      "Epoch 20/50, Errors: 0\n",
      "Epoch 21/50, Errors: 0\n",
      "Epoch 22/50, Errors: 0\n",
      "Epoch 23/50, Errors: 0\n",
      "Epoch 24/50, Errors: 0\n",
      "Epoch 25/50, Errors: 0\n",
      "Epoch 26/50, Errors: 0\n",
      "Epoch 27/50, Errors: 0\n",
      "Epoch 28/50, Errors: 0\n",
      "Epoch 29/50, Errors: 0\n",
      "Epoch 30/50, Errors: 0\n",
      "Epoch 31/50, Errors: 0\n",
      "Epoch 32/50, Errors: 0\n",
      "Epoch 33/50, Errors: 0\n",
      "Epoch 34/50, Errors: 0\n",
      "Epoch 35/50, Errors: 0\n",
      "Epoch 36/50, Errors: 0\n",
      "Epoch 37/50, Errors: 0\n",
      "Epoch 38/50, Errors: 0\n",
      "Epoch 39/50, Errors: 0\n",
      "Epoch 40/50, Errors: 0\n",
      "Epoch 41/50, Errors: 0\n",
      "Epoch 42/50, Errors: 0\n",
      "Epoch 43/50, Errors: 0\n",
      "Epoch 44/50, Errors: 0\n",
      "Epoch 45/50, Errors: 0\n",
      "Epoch 46/50, Errors: 0\n",
      "Epoch 47/50, Errors: 0\n",
      "Epoch 48/50, Errors: 0\n",
      "Epoch 49/50, Errors: 0\n",
      "Epoch 50/50, Errors: 0\n",
      "Accuracy: 100.00%\n"
     ]
    }
   ],
   "source": [
    "# choose the first two features and the last column\n",
    "X = data[['Sepal Length', 'Petal Length']].values\n",
    "y = data['Species'].apply(lambda x: 1 if x == 'Iris-setosa' else -1).values\n",
    "\n",
    "# split the data into training and test sets\n",
    "X_train, X_test, y_train, y_test = train_test_split(X, y, test_size=0.2, random_state=42)\n",
    "\n",
    "# initialize the perceptron\n",
    "clf = Perceptron(eta=0.0001, n_iter=50, random_state=42)\n",
    "clf.fit(X_train, y_train)\n",
    "\n",
    "# predict the test set\n",
    "y_pred = clf.predict(X_test)\n",
    "\n",
    "# compute the accuracy\n",
    "accuracy = accuracy_score(y_test, y_pred)\n",
    "accuracy_percentage = accuracy * 100\n",
    "print(f'Accuracy: {accuracy_percentage:.2f}%')"
   ]
  }
 ],
 "metadata": {
  "kernelspec": {
   "display_name": "mltf",
   "language": "python",
   "name": "python3"
  },
  "language_info": {
   "codemirror_mode": {
    "name": "ipython",
    "version": 3
   },
   "file_extension": ".py",
   "mimetype": "text/x-python",
   "name": "python",
   "nbconvert_exporter": "python",
   "pygments_lexer": "ipython3",
   "version": "3.12.5"
  }
 },
 "nbformat": 4,
 "nbformat_minor": 2
}
