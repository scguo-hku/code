{
 "cells": [
  {
   "cell_type": "code",
   "execution_count": 1,
   "metadata": {},
   "outputs": [],
   "source": [
    "import os\n",
    "import re\n",
    "from sklearn.feature_extraction.text import CountVectorizer\n",
    "from sklearn.naive_bayes import GaussianNB\n",
    "from sklearn.naive_bayes import MultinomialNB\n",
    "from sklearn.model_selection import KFold\n",
    "from sklearn.metrics import accuracy_score\n",
    "from sklearn.preprocessing import LabelEncoder\n",
    "import numpy as np"
   ]
  },
  {
   "cell_type": "code",
   "execution_count": null,
   "metadata": {},
   "outputs": [
    {
     "data": {
      "text/plain": [
       "'pol'"
      ]
     },
     "execution_count": 26,
     "metadata": {},
     "output_type": "execute_result"
    }
   ],
   "source": [
    "folder_path = '/Users/mac/Documents/code/data mining/Assignment/Assignment2/NB/dataset-news'  \n",
    "\n",
    "# create corpus and labels\n",
    "corpus = []\n",
    "labels = []\n",
    "\n",
    "# read files\n",
    "for filename in os.listdir(folder_path):\n",
    "    file_path = os.path.join(folder_path, filename)\n",
    "    with open(file_path, 'r', encoding='utf-8') as file:\n",
    "        content = file.read()\n",
    "        corpus.append(content)\n",
    "\n",
    "        # extract label from filename\n",
    "        match = re.match(r'^[A-Za-z]+', filename)\n",
    "        if match:\n",
    "            label = match.group()\n",
    "        else:\n",
    "            label = 'unknown'  \n",
    "        labels.append(label)\n",
    "\n",
    "labels[1] "
   ]
  },
  {
   "cell_type": "code",
   "execution_count": 9,
   "metadata": {},
   "outputs": [
    {
     "name": "stdout",
     "output_type": "stream",
     "text": [
      "(800, 14551)\n"
     ]
    }
   ],
   "source": [
    "vectorizer = CountVectorizer(stop_words='english')\n",
    "X = vectorizer.fit_transform(corpus)\n",
    "X = X.toarray()\n",
    "print(X.shape)"
   ]
  },
  {
   "cell_type": "code",
   "execution_count": 11,
   "metadata": {},
   "outputs": [
    {
     "name": "stdout",
     "output_type": "stream",
     "text": [
      "Number of mislabeled points out of a total 800 points : 27\n"
     ]
    }
   ],
   "source": [
    "gnb = GaussianNB()\n",
    "gnb.fit(X, labels)\n",
    "\n",
    "y_pred_gnb = gnb.predict(X)\n",
    "print (\"Number of mislabeled points out of a total %d points : %d\" % \\\n",
    "(X.shape[0],(labels != y_pred_gnb).sum()))"
   ]
  },
  {
   "cell_type": "code",
   "execution_count": 12,
   "metadata": {},
   "outputs": [
    {
     "name": "stdout",
     "output_type": "stream",
     "text": [
      "Number of mislabeled points out of a total 800 points : 32\n"
     ]
    }
   ],
   "source": [
    "mnb = MultinomialNB(alpha=1.0)\n",
    "mnb.fit(X, labels)\n",
    "\n",
    "y_pred_mnb = mnb.predict(X)\n",
    "print (\"Number of mislabeled points out of a total %d points : %d\" % \\\n",
    "(X.shape[0],(labels != y_pred_mnb).sum()))"
   ]
  },
  {
   "cell_type": "code",
   "execution_count": 13,
   "metadata": {},
   "outputs": [
    {
     "name": "stdout",
     "output_type": "stream",
     "text": [
      "Multinomial Naive Bayes Average Accuracy: 0.7913 (+/- 0.0426)\n",
      "Gaussian Naive Bayes Average Accuracy: 0.7363 (+/- 0.0308)\n"
     ]
    }
   ],
   "source": [
    "mnb_clf = MultinomialNB()\n",
    "gnb_clf = GaussianNB()\n",
    "\n",
    "kf = KFold(n_splits=10, shuffle=True, random_state=42)\n",
    "\n",
    "mnb_accuracy = []\n",
    "gnb_accuracy = []\n",
    "\n",
    "# encode labels\n",
    "le = LabelEncoder()\n",
    "y_encoded = le.fit_transform(labels)\n",
    "\n",
    "for train_index, test_index in kf.split(X):\n",
    "    # split the data\n",
    "    X_train, X_test = X[train_index], X[test_index]\n",
    "    y_train, y_test = y_encoded[train_index], y_encoded[test_index]\n",
    "    \n",
    "    # multinomial\n",
    "    mnb_clf.fit(X_train, y_train)\n",
    "    y_pred_mnb = mnb_clf.predict(X_test)\n",
    "    acc_mnb = accuracy_score(y_test, y_pred_mnb)\n",
    "    mnb_accuracy.append(acc_mnb)\n",
    "    \n",
    "    # gaussian\n",
    "    gnb_clf.fit(X_train, y_train)\n",
    "    y_pred_gnb = gnb_clf.predict(X_test)\n",
    "    acc_gnb = accuracy_score(y_test, y_pred_gnb)\n",
    "    gnb_accuracy.append(acc_gnb)\n",
    "\n",
    "# compute the average accuracy\n",
    "print(\"Multinomial Naive Bayes Average Accuracy: {:.4f} (+/- {:.4f})\".format(\n",
    "    np.mean(mnb_accuracy), np.std(mnb_accuracy)))\n",
    "print(\"Gaussian Naive Bayes Average Accuracy: {:.4f} (+/- {:.4f})\".format(\n",
    "    np.mean(gnb_accuracy), np.std(gnb_accuracy)))"
   ]
  },
  {
   "cell_type": "code",
   "execution_count": 14,
   "metadata": {},
   "outputs": [
    {
     "name": "stdout",
     "output_type": "stream",
     "text": [
      "Random Classifier Average Accuracy: 0.1113 (+/- 0.0360)\n"
     ]
    }
   ],
   "source": [
    "# Question 2\n",
    "# encode labels\n",
    "le = LabelEncoder()\n",
    "y = le.fit_transform(labels)\n",
    "\n",
    "kf = KFold(n_splits=10, shuffle=True, random_state=42)\n",
    "random_accuracy = []\n",
    "\n",
    "for train_index, test_index in kf.split(X):\n",
    "    y_test = y[test_index]\n",
    "    num_classes = len(le.classes_)\n",
    "    np.random.seed(42)  # set random seed for reproducibility\n",
    "    y_pred_random = np.random.choice(num_classes, size=len(y_test))\n",
    "    acc = accuracy_score(y_test, y_pred_random)\n",
    "    random_accuracy.append(acc)\n",
    "\n",
    "print(\"Random Classifier Average Accuracy: {:.4f} (+/- {:.4f})\".format(\n",
    "    np.mean(random_accuracy), np.std(random_accuracy)))"
   ]
  },
  {
   "cell_type": "code",
   "execution_count": 15,
   "metadata": {},
   "outputs": [
    {
     "name": "stdout",
     "output_type": "stream",
     "text": [
      "(800, 14842)\n"
     ]
    }
   ],
   "source": [
    "# Qustion 3\n",
    "vectorizer = CountVectorizer()\n",
    "X_1 = vectorizer.fit_transform(corpus)\n",
    "X_1 = X_1.toarray()\n",
    "print(X_1.shape)"
   ]
  },
  {
   "cell_type": "code",
   "execution_count": 16,
   "metadata": {},
   "outputs": [
    {
     "name": "stdout",
     "output_type": "stream",
     "text": [
      "Multinomial Naive Bayes Average Accuracy: 0.7450 (+/- 0.0384)\n"
     ]
    }
   ],
   "source": [
    "mnb_clf = MultinomialNB()\n",
    "\n",
    "kf = KFold(n_splits=10, shuffle=True, random_state=42)\n",
    "\n",
    "mnb_accuracy = []\n",
    "\n",
    "# encode labels\n",
    "le = LabelEncoder()\n",
    "y_encoded = le.fit_transform(labels)\n",
    "\n",
    "for train_index, test_index in kf.split(X_1):\n",
    "    # split the data\n",
    "    X_train, X_test = X_1[train_index], X_1[test_index]\n",
    "    y_train, y_test = y_encoded[train_index], y_encoded[test_index]\n",
    "    \n",
    "    # multinomial\n",
    "    mnb_clf.fit(X_train, y_train)\n",
    "    y_pred_mnb = mnb_clf.predict(X_test)\n",
    "    acc_mnb = accuracy_score(y_test, y_pred_mnb)\n",
    "    mnb_accuracy.append(acc_mnb)\n",
    "\n",
    "# compute the average accuracy\n",
    "print(\"Multinomial Naive Bayes Average Accuracy: {:.4f} (+/- {:.4f})\".format(\n",
    "    np.mean(mnb_accuracy), np.std(mnb_accuracy)))"
   ]
  },
  {
   "cell_type": "code",
   "execution_count": null,
   "metadata": {},
   "outputs": [
    {
     "name": "stdout",
     "output_type": "stream",
     "text": [
      "Task 1 Average Accuracy: 0.9367 (+/- 0.0433)\n",
      "Task 2 Average Accuracy: 0.7600 (+/- 0.0593)\n",
      "Task 1 is easier than Task 2.\n"
     ]
    }
   ],
   "source": [
    "# Question 4\n",
    "\n",
    "# encode labels\n",
    "le = LabelEncoder()\n",
    "y_encoded = le.fit_transform(labels)\n",
    "\n",
    "# define the labels for each task\n",
    "task1_labels = ['pol', 'hockey', 'mac'] # “use of guns”, “hockey”, “Mac hardware”\n",
    "task2_labels = ['mac', 'ibm', 'electronics'] # “Mac hardware”, “IBM hardware”, “electronics”\n",
    "\n",
    "# filter the documents for each task\n",
    "task1_indices = [i for i, label in enumerate(labels) if label in task1_labels]\n",
    "X_task1 = X[task1_indices]\n",
    "y_task1 = y_encoded[task1_indices]\n",
    "\n",
    "# filter the documents for each task\n",
    "task2_indices = [i for i, label in enumerate(labels) if label in task2_labels]\n",
    "X_task2 = X[task2_indices]\n",
    "y_task2 = y_encoded[task2_indices]\n",
    "\n",
    "# cross validation\n",
    "def cross_validate(X, y):\n",
    "    kf = KFold(n_splits=10, shuffle=True, random_state=42)\n",
    "    accuracy = []\n",
    "\n",
    "    for train_index, test_index in kf.split(X):\n",
    "        X_train, X_test = X[train_index], X[test_index]\n",
    "        y_train, y_test = y[train_index], y[test_index]\n",
    "        \n",
    "        clf = MultinomialNB()\n",
    "        clf.fit(X_train, y_train)\n",
    "        y_pred = clf.predict(X_test)\n",
    "        acc = accuracy_score(y_test, y_pred)\n",
    "        accuracy.append(acc)\n",
    "\n",
    "    return np.mean(accuracy), np.std(accuracy)\n",
    "\n",
    "# task1 accuracy\n",
    "task1_accuracy, task1_std = cross_validate(X_task1, y_task1)\n",
    "print(\"Task 1 Average Accuracy: {:.4f} (+/- {:.4f})\".format(task1_accuracy, task1_std))\n",
    "\n",
    "# task2 accuracy\n",
    "task2_accuracy, task2_std = cross_validate(X_task2, y_task2)\n",
    "print(\"Task 2 Average Accuracy: {:.4f} (+/- {:.4f})\".format(task2_accuracy, task2_std))\n",
    "\n",
    "# analyze the results\n",
    "if task1_accuracy > task2_accuracy:\n",
    "    print(\"Task 1 is easier than Task 2.\")\n",
    "else:\n",
    "    print(\"Task 2 is easier than Task 1.\")"
   ]
  }
 ],
 "metadata": {
  "kernelspec": {
   "display_name": "dm",
   "language": "python",
   "name": "python3"
  },
  "language_info": {
   "codemirror_mode": {
    "name": "ipython",
    "version": 3
   },
   "file_extension": ".py",
   "mimetype": "text/x-python",
   "name": "python",
   "nbconvert_exporter": "python",
   "pygments_lexer": "ipython3",
   "version": "3.11.10"
  }
 },
 "nbformat": 4,
 "nbformat_minor": 2
}
