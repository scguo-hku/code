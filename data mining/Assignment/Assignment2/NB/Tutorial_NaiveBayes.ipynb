{
 "cells": [
  {
   "cell_type": "code",
   "execution_count": 1,
   "metadata": {},
   "outputs": [
    {
     "name": "stdout",
     "output_type": "stream",
     "text": [
      "Number of mislabeled points out of a total 150 points : 6\n"
     ]
    }
   ],
   "source": [
    "from sklearn.naive_bayes import GaussianNB\n",
    "#used when all features follow a gaussian distribution\n",
    "from sklearn.datasets import load_iris\n",
    "\n",
    "iris = load_iris ()\n",
    "\n",
    "gnb = GaussianNB()\n",
    "gnb.fit(iris.data, iris.target)\n",
    "\n",
    "y_pred = gnb.predict(iris.data)\n",
    "print (\"Number of mislabeled points out of a total %d points : %d\" % \\\n",
    "(iris.data.shape[0],(iris.target != y_pred).sum()))"
   ]
  },
  {
   "cell_type": "code",
   "execution_count": 2,
   "metadata": {},
   "outputs": [
    {
     "name": "stdout",
     "output_type": "stream",
     "text": [
      "Number of mislabeled points out of a total 150 points : 7\n"
     ]
    }
   ],
   "source": [
    "from sklearn.naive_bayes import MultinomialNB\n",
    "#used when all features follow a multinomial distribution\n",
    "\n",
    "\n",
    "mnb = MultinomialNB(alpha=1.0) \n",
    "mnb.fit ( iris .data, iris .target) \n",
    "\n",
    "y_pred = mnb.predict(iris.data)\n",
    "print (\"Number of mislabeled points out of a total %d points : %d\" % \\\n",
    "(iris.data.shape[0],(iris.target != y_pred).sum()))"
   ]
  },
  {
   "cell_type": "markdown",
   "metadata": {},
   "source": [
    "Note: Scikit learn does not support directly the case when features follow different distributions."
   ]
  },
  {
   "cell_type": "code",
   "execution_count": null,
   "metadata": {},
   "outputs": [],
   "source": []
  }
 ],
 "metadata": {
  "kernelspec": {
   "display_name": "Python 3",
   "language": "python",
   "name": "python3"
  },
  "language_info": {
   "codemirror_mode": {
    "name": "ipython",
    "version": 3
   },
   "file_extension": ".py",
   "mimetype": "text/x-python",
   "name": "python",
   "nbconvert_exporter": "python",
   "pygments_lexer": "ipython3",
   "version": "3.8.5"
  }
 },
 "nbformat": 4,
 "nbformat_minor": 2
}
