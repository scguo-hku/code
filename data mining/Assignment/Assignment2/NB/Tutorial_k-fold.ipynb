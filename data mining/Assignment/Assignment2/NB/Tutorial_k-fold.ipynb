{
 "cells": [
  {
   "cell_type": "code",
   "execution_count": 1,
   "metadata": {},
   "outputs": [
    {
     "name": "stdout",
     "output_type": "stream",
     "text": [
      "1 Fold\n",
      "[2 3] [0 1]\n",
      "['c' 'd']\n",
      "['a' 'b']\n",
      "2 Fold\n",
      "[0 1] [2 3]\n",
      "['a' 'b']\n",
      "['c' 'd']\n"
     ]
    }
   ],
   "source": [
    "import numpy as np\n",
    "from sklearn.model_selection import KFold\n",
    "\n",
    "X = [\"a\", \"b\", \"c\", \"d\"]\n",
    "kf = KFold(n_splits=2)\n",
    "counter = 1\n",
    "for train, test in kf.split(X):\n",
    "    print (\"%d Fold\" % counter)\n",
    "    print (\"%s %s\" % (train, test))\n",
    "    print (np.array(X)[train])\n",
    "    print (np.array(X)[test])\n",
    "    counter += 1\n",
    "    # train and predict using your model\n",
    "    # count the accuracy\n",
    "\n",
    "# print the average accuracy"
   ]
  },
  {
   "cell_type": "code",
   "execution_count": null,
   "metadata": {
    "collapsed": true
   },
   "outputs": [],
   "source": []
  }
 ],
 "metadata": {
  "kernelspec": {
   "display_name": "Python 3",
   "language": "python",
   "name": "python3"
  },
  "language_info": {
   "codemirror_mode": {
    "name": "ipython",
    "version": 3
   },
   "file_extension": ".py",
   "mimetype": "text/x-python",
   "name": "python",
   "nbconvert_exporter": "python",
   "pygments_lexer": "ipython3",
   "version": "3.8.5"
  }
 },
 "nbformat": 4,
 "nbformat_minor": 2
}
